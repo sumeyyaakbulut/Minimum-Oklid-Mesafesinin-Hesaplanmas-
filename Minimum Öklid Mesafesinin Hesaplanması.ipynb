{
 "cells": [
  {
   "cell_type": "code",
   "execution_count": 9,
   "id": "45d6571a-35bf-403c-a775-405f13afbe5d",
   "metadata": {},
   "outputs": [
    {
     "name": "stdout",
     "output_type": "stream",
     "text": [
      "1.4142135623730951\n"
     ]
    }
   ],
   "source": [
    "#Bu sınıf iki boyutlu bir noktayı temsil eder ve x ve y koordinatlarını saklar. \n",
    "class Point:\n",
    "    def __init__(self, x, y):\n",
    "        self.x = x\n",
    "        self.y = y\n",
    "\n",
    "    def euclideanDistance(self, other):\n",
    "        return ((self.x - other.x) ** 2 + (self.y - other.y) ** 2) ** 0.5\n",
    "\n",
    "#points adında bir liste oluşturulur ve bu listede dört farklı Point nesnesi bulunur.\n",
    "points = [Point(10, 4), Point(5, 9), Point(7, 1), Point(9, 5)]\n",
    "\n",
    "#distances adında boş bir liste oluşturulur.\n",
    "distances = []\n",
    "\n",
    "#for döngüsü iç içe kullanılarak, her bir noktanın diğer noktalara olan mesafesi hesaplanır ve distances listesine eklenir. \n",
    "for i in range(len(points)):\n",
    "    for j in range(i + 1, len(points)):\n",
    "        distances.append(points[i].euclideanDistance(points[j]))\n",
    "\n",
    "#Başlangıçta en küçük mesafeyi saklamak için sonsuz (inf) olarak ayarlanır.\n",
    "min_distance = float('inf')\n",
    "\n",
    "#Daha sonra, distances listesindeki mesafeler tek tek kontrol edilir. \n",
    "for distance in distances:\n",
    "    if distance < min_distance:\n",
    "        min_distance = distance\n",
    "\n",
    "print(min_distance)"
   ]
  },
  {
   "cell_type": "code",
   "execution_count": null,
   "id": "31700228-a80f-4359-b11a-7a79b680796e",
   "metadata": {},
   "outputs": [],
   "source": []
  }
 ],
 "metadata": {
  "kernelspec": {
   "display_name": "Python 3 (ipykernel)",
   "language": "python",
   "name": "python3"
  },
  "language_info": {
   "codemirror_mode": {
    "name": "ipython",
    "version": 3
   },
   "file_extension": ".py",
   "mimetype": "text/x-python",
   "name": "python",
   "nbconvert_exporter": "python",
   "pygments_lexer": "ipython3",
   "version": "3.11.7"
  }
 },
 "nbformat": 4,
 "nbformat_minor": 5
}
